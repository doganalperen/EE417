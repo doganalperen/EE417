{
 "cells": [
  {
   "cell_type": "code",
   "execution_count": 26,
   "metadata": {},
   "outputs": [],
   "source": [
    "import pandas as pd\n",
    "import matplotlib.pyplot as plt\n",
    "import numpy as np\n",
    "\n",
    "df=pd.read_excel(\"output.xls\")"
   ]
  },
  {
   "cell_type": "code",
   "execution_count": 21,
   "metadata": {},
   "outputs": [
    {
     "data": {
      "text/html": [
       "<div>\n",
       "<style scoped>\n",
       "    .dataframe tbody tr th:only-of-type {\n",
       "        vertical-align: middle;\n",
       "    }\n",
       "\n",
       "    .dataframe tbody tr th {\n",
       "        vertical-align: top;\n",
       "    }\n",
       "\n",
       "    .dataframe thead th {\n",
       "        text-align: right;\n",
       "    }\n",
       "</style>\n",
       "<table border=\"1\" class=\"dataframe\">\n",
       "  <thead>\n",
       "    <tr style=\"text-align: right;\">\n",
       "      <th></th>\n",
       "      <th>original</th>\n",
       "      <th>eu</th>\n",
       "      <th>mh</th>\n",
       "      <th>ca</th>\n",
       "      <th>ch</th>\n",
       "      <th>co</th>\n",
       "      <th>mse</th>\n",
       "      <th>no4</th>\n",
       "      <th>sad</th>\n",
       "      <th>ssd</th>\n",
       "    </tr>\n",
       "  </thead>\n",
       "  <tbody>\n",
       "    <tr>\n",
       "      <th>0</th>\n",
       "      <td>2384</td>\n",
       "      <td>2385</td>\n",
       "      <td>2385</td>\n",
       "      <td>2385</td>\n",
       "      <td>2385</td>\n",
       "      <td>2385</td>\n",
       "      <td>2385</td>\n",
       "      <td>2385</td>\n",
       "      <td>2385</td>\n",
       "      <td>2385</td>\n",
       "    </tr>\n",
       "    <tr>\n",
       "      <th>1</th>\n",
       "      <td>2858</td>\n",
       "      <td>2867</td>\n",
       "      <td>2865</td>\n",
       "      <td>2865</td>\n",
       "      <td>2867</td>\n",
       "      <td>-1</td>\n",
       "      <td>2867</td>\n",
       "      <td>2867</td>\n",
       "      <td>2865</td>\n",
       "      <td>2867</td>\n",
       "    </tr>\n",
       "    <tr>\n",
       "      <th>2</th>\n",
       "      <td>398</td>\n",
       "      <td>396</td>\n",
       "      <td>396</td>\n",
       "      <td>396</td>\n",
       "      <td>389</td>\n",
       "      <td>-1</td>\n",
       "      <td>396</td>\n",
       "      <td>389</td>\n",
       "      <td>396</td>\n",
       "      <td>396</td>\n",
       "    </tr>\n",
       "    <tr>\n",
       "      <th>3</th>\n",
       "      <td>1741</td>\n",
       "      <td>1740</td>\n",
       "      <td>1739</td>\n",
       "      <td>1739</td>\n",
       "      <td>1740</td>\n",
       "      <td>-1</td>\n",
       "      <td>1740</td>\n",
       "      <td>1740</td>\n",
       "      <td>1739</td>\n",
       "      <td>1740</td>\n",
       "    </tr>\n",
       "    <tr>\n",
       "      <th>4</th>\n",
       "      <td>1436</td>\n",
       "      <td>1431</td>\n",
       "      <td>1442</td>\n",
       "      <td>1442</td>\n",
       "      <td>1431</td>\n",
       "      <td>-1</td>\n",
       "      <td>1431</td>\n",
       "      <td>1431</td>\n",
       "      <td>1442</td>\n",
       "      <td>1431</td>\n",
       "    </tr>\n",
       "    <tr>\n",
       "      <th>...</th>\n",
       "      <td>...</td>\n",
       "      <td>...</td>\n",
       "      <td>...</td>\n",
       "      <td>...</td>\n",
       "      <td>...</td>\n",
       "      <td>...</td>\n",
       "      <td>...</td>\n",
       "      <td>...</td>\n",
       "      <td>...</td>\n",
       "      <td>...</td>\n",
       "    </tr>\n",
       "    <tr>\n",
       "      <th>595</th>\n",
       "      <td>544</td>\n",
       "      <td>534</td>\n",
       "      <td>530</td>\n",
       "      <td>527</td>\n",
       "      <td>537</td>\n",
       "      <td>-1</td>\n",
       "      <td>534</td>\n",
       "      <td>537</td>\n",
       "      <td>530</td>\n",
       "      <td>534</td>\n",
       "    </tr>\n",
       "    <tr>\n",
       "      <th>596</th>\n",
       "      <td>1220</td>\n",
       "      <td>1212</td>\n",
       "      <td>1222</td>\n",
       "      <td>1212</td>\n",
       "      <td>1222</td>\n",
       "      <td>-1</td>\n",
       "      <td>1212</td>\n",
       "      <td>1212</td>\n",
       "      <td>1222</td>\n",
       "      <td>1212</td>\n",
       "    </tr>\n",
       "    <tr>\n",
       "      <th>597</th>\n",
       "      <td>410</td>\n",
       "      <td>409</td>\n",
       "      <td>409</td>\n",
       "      <td>409</td>\n",
       "      <td>409</td>\n",
       "      <td>419</td>\n",
       "      <td>409</td>\n",
       "      <td>409</td>\n",
       "      <td>409</td>\n",
       "      <td>409</td>\n",
       "    </tr>\n",
       "    <tr>\n",
       "      <th>598</th>\n",
       "      <td>95</td>\n",
       "      <td>93</td>\n",
       "      <td>93</td>\n",
       "      <td>93</td>\n",
       "      <td>93</td>\n",
       "      <td>89</td>\n",
       "      <td>93</td>\n",
       "      <td>93</td>\n",
       "      <td>93</td>\n",
       "      <td>93</td>\n",
       "    </tr>\n",
       "    <tr>\n",
       "      <th>599</th>\n",
       "      <td>2873</td>\n",
       "      <td>2872</td>\n",
       "      <td>2872</td>\n",
       "      <td>2872</td>\n",
       "      <td>2872</td>\n",
       "      <td>-1</td>\n",
       "      <td>2872</td>\n",
       "      <td>2872</td>\n",
       "      <td>2872</td>\n",
       "      <td>2872</td>\n",
       "    </tr>\n",
       "  </tbody>\n",
       "</table>\n",
       "<p>600 rows × 10 columns</p>\n",
       "</div>"
      ],
      "text/plain": [
       "     original    eu    mh    ca    ch    co   mse   no4   sad   ssd\n",
       "0        2384  2385  2385  2385  2385  2385  2385  2385  2385  2385\n",
       "1        2858  2867  2865  2865  2867    -1  2867  2867  2865  2867\n",
       "2         398   396   396   396   389    -1   396   389   396   396\n",
       "3        1741  1740  1739  1739  1740    -1  1740  1740  1739  1740\n",
       "4        1436  1431  1442  1442  1431    -1  1431  1431  1442  1431\n",
       "..        ...   ...   ...   ...   ...   ...   ...   ...   ...   ...\n",
       "595       544   534   530   527   537    -1   534   537   530   534\n",
       "596      1220  1212  1222  1212  1222    -1  1212  1212  1222  1212\n",
       "597       410   409   409   409   409   419   409   409   409   409\n",
       "598        95    93    93    93    93    89    93    93    93    93\n",
       "599      2873  2872  2872  2872  2872    -1  2872  2872  2872  2872\n",
       "\n",
       "[600 rows x 10 columns]"
      ]
     },
     "execution_count": 21,
     "metadata": {},
     "output_type": "execute_result"
    }
   ],
   "source": [
    "df"
   ]
  },
  {
   "cell_type": "code",
   "execution_count": 30,
   "metadata": {},
   "outputs": [],
   "source": [
    "err=dict()\n",
    "acc=dict()\n",
    "for i in range(1,10):\n",
    "\n",
    "    metric=df.columns[i]\n",
    "    \n",
    "    error=len(df[df[metric]==-1])\n",
    "    err[metric]=error\n",
    "    acc[metric]=(600-error)/600"
   ]
  },
  {
   "cell_type": "code",
   "execution_count": 31,
   "metadata": {},
   "outputs": [
    {
     "data": {
      "text/plain": [
       "<BarContainer object of 9 artists>"
      ]
     },
     "execution_count": 31,
     "metadata": {},
     "output_type": "execute_result"
    },
    {
     "data": {
      "image/png": "[encoded data removed]",
      "text/plain": [
       "<Figure size 432x288 with 1 Axes>"
      ]
     },
     "metadata": {
      "needs_background": "light"
     },
     "output_type": "display_data"
    }
   ],
   "source": [
    "plt.bar(err.keys(), err.values(), color='g')\n"
   ]
  },
  {
   "cell_type": "code",
   "execution_count": 32,
   "metadata": {},
   "outputs": [
    {
     "data": {
      "text/plain": [
       "<BarContainer object of 9 artists>"
      ]
     },
     "execution_count": 32,
     "metadata": {},
     "output_type": "execute_result"
    },
    {
     "data": {
      "image/png": "[encoded data removed]",
      "text/plain": [
       "<Figure size 432x288 with 1 Axes>"
      ]
     },
     "metadata": {
      "needs_background": "light"
     },
     "output_type": "display_data"
    }
   ],
   "source": [
    "plt.bar(acc.keys(), acc.values(), color='r')\n"
   ]
  },
  {
   "cell_type": "code",
   "execution_count": 47,
   "metadata": {},
   "outputs": [
    {
     "data": {
      "text/plain": [
       "[1, 4, 3, 3, 4, 1, 4, 4, 3]"
      ]
     },
     "execution_count": 47,
     "metadata": {},
     "output_type": "execute_result"
    }
   ],
   "source": [
    "def consistency(arr):\n",
    "    g=[0, 0, 0, 0, 0, 0, 0, 0, 0]\n",
    "    for i in range(0,9):\n",
    "        for j in range(0,9):\n",
    "            if(arr[j]==arr[i] and arr[i]!=-1):\n",
    "                g[j]+=1\n",
    "                \n",
    "    \n",
    "    return g\n",
    "\n",
    "\n",
    "x=np.array(df.iloc[1,0:9])\n"
   ]
  },
  {
   "cell_type": "code",
   "execution_count": 57,
   "metadata": {},
   "outputs": [],
   "source": [
    "con=[0]*9\n",
    "con=np.array(con)\n",
    "for i in range(0,600):\n",
    "    con+=consistency(df.iloc[i,1:10])"
   ]
  },
  {
   "cell_type": "code",
   "execution_count": 58,
   "metadata": {},
   "outputs": [
    {
     "data": {
      "text/plain": [
       "array([4139, 3657, 3386, 3605, 1036, 4139, 3885, 3887, 4134])"
      ]
     },
     "execution_count": 58,
     "metadata": {},
     "output_type": "execute_result"
    }
   ],
   "source": [
    "plt.bar(con.keys(), con.values(), color='b')\n"
   ]
  },
  {
   "cell_type": "code",
   "execution_count": null,
   "metadata": {},
   "outputs": [],
   "source": []
  }
 ],
 "metadata": {
  "kernelspec": {
   "display_name": "Python 3",
   "language": "python",
   "name": "python3"
  },
  "language_info": {
   "codemirror_mode": {
    "name": "ipython",
    "version": 3
   },
   "file_extension": ".py",
   "mimetype": "text/x-python",
   "name": "python",
   "nbconvert_exporter": "python",
   "pygments_lexer": "ipython3",
   "version": "3.6.9"
  }
 },
 "nbformat": 4,
 "nbformat_minor": 2
}
